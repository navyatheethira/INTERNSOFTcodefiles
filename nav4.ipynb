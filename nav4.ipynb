{
  "nbformat": 4,
  "nbformat_minor": 0,
  "metadata": {
    "colab": {
      "provenance": [],
      "authorship_tag": "ABX9TyNljUkzZhwQxGu21NtbkP2Q",
      "include_colab_link": true
    },
    "kernelspec": {
      "name": "python3",
      "display_name": "Python 3"
    },
    "language_info": {
      "name": "python"
    }
  },
  "cells": [
    {
      "cell_type": "markdown",
      "metadata": {
        "id": "view-in-github",
        "colab_type": "text"
      },
      "source": [
        "<a href=\"https://colab.research.google.com/github/navyatheethira/INTERNSOFTcodefiles/blob/main/nav4.ipynb\" target=\"_parent\"><img src=\"https://colab.research.google.com/assets/colab-badge.svg\" alt=\"Open In Colab\"/></a>"
      ]
    },
    {
      "cell_type": "markdown",
      "source": [
        "**Object Oriented Programming**"
      ],
      "metadata": {
        "id": "mDUmMpZMEHgB"
      }
    },
    {
      "cell_type": "markdown",
      "source": [
        "**Creating a class**"
      ],
      "metadata": {
        "id": "JaW9pxtNEPub"
      }
    },
    {
      "cell_type": "markdown",
      "source": [
        "Syntax:"
      ],
      "metadata": {
        "id": "jYp-jf9VEuIE"
      }
    },
    {
      "cell_type": "code",
      "source": [
        "#         class ClassName(base_classes):\n",
        "#             statements\n",
        "#class names must be uppercase"
      ],
      "metadata": {
        "id": "EfmZYuUwE4c3"
      },
      "execution_count": null,
      "outputs": []
    },
    {
      "cell_type": "code",
      "source": [
        "class Person:\n",
        "    pass #must be implemented by subclasses\n",
        "Nav_Dev=Person()\n",
        "Nav_Dev.name = \"Salma\"\n",
        "Nav_Dev.surname = \"Belliappa\"\n",
        "Nav_Dev.year_of_birth = 1992"
      ],
      "metadata": {
        "id": "9Xk0YfLVG5up"
      },
      "execution_count": 7,
      "outputs": []
    },
    {
      "cell_type": "code",
      "source": [
        "print(Nav_Dev)\n",
        "print(\"%s %s was born in %d.\"%\n",
        "      (Nav_Dev.name, Nav_Dev.surname, Nav_Dev.year_of_birth )) #object's attributes are accessed using dot operator"
      ],
      "metadata": {
        "colab": {
          "base_uri": "https://localhost:8080/"
        },
        "id": "sPr7oVHEIMpY",
        "outputId": "17075d46-7417-404d-e391-114ab2b88ea3"
      },
      "execution_count": 16,
      "outputs": [
        {
          "output_type": "stream",
          "name": "stdout",
          "text": [
            "<__main__.Person object at 0x7ad91b83bf10>\n",
            "Salma Belliappa was born in 1992.\n"
          ]
        }
      ]
    },
    {
      "cell_type": "code",
      "source": [
        "#actual method of creating a class\n",
        "#instance of the Person class bound to the variable Nav\n",
        "class Person:\n",
        "    def __init__(self, name, surname, year_of_birth):#self is a keyword i.e automatically passed and it refers to the object itself\n",
        "        self.name=name\n",
        "        self.surname=surname\n",
        "        self.year_of_birth=year_of_birth"
      ],
      "metadata": {
        "id": "lUNMHNi1NgKg"
      },
      "execution_count": 20,
      "outputs": []
    },
    {
      "cell_type": "code",
      "source": [
        "Nav=Person(\"Navya\",\"Devaiah\",1992)\n",
        "print(Nav)\n",
        "print(\"%s %s was born in %d.\"% (Nav.name,Nav.surname,Nav.year_of_birth))"
      ],
      "metadata": {
        "colab": {
          "base_uri": "https://localhost:8080/"
        },
        "id": "R4GYR_PIP27B",
        "outputId": "8f2e61c9-113d-4477-9d03-25df235496e0"
      },
      "execution_count": 23,
      "outputs": [
        {
          "output_type": "stream",
          "name": "stdout",
          "text": [
            "<__main__.Person object at 0x7ad91b8d8f40>\n",
            "Navya Devaiah was born in 1992.\n"
          ]
        }
      ]
    },
    {
      "cell_type": "markdown",
      "source": [
        "**Methods**"
      ],
      "metadata": {
        "id": "-RHYQsfJVPdC"
      }
    },
    {
      "cell_type": "code",
      "source": [
        "class Person:   # __init__ is automatically called by python interpreter\n",
        "    def __init__(self, name, surname, year_of_birth):#self is a keyword i.e automatically passed and it refers to the object itself\n",
        "        self.name=name\n",
        "        self.surname=surname\n",
        "        self.year_of_birth=year_of_birth\n",
        "    def age(self,current_year):# age is regular method which is not called automatically but it's explicitly invoked by the programmer\n",
        "        return current_year-self.year_of_birth\n",
        "    def __str__(self): # __str__ is automatically called when you print the object\n",
        "        return  \"%s %s was born in %d.\"  % (self.name,self.surname,self.year_of_birth )\n",
        "\n",
        "Nav=Person(\"Navya\",\"Devaiah\",1992)\n",
        "print(Nav)\n",
        "print(Nav.age(2024))"
      ],
      "metadata": {
        "colab": {
          "base_uri": "https://localhost:8080/"
        },
        "id": "HgDjtf0aWiLD",
        "outputId": "7a0ea658-9295-4f63-821c-cd62f0526543"
      },
      "execution_count": 8,
      "outputs": [
        {
          "output_type": "stream",
          "name": "stdout",
          "text": [
            "Navya Devaiah was born in 1992.\n",
            "32\n"
          ]
        }
      ]
    },
    {
      "cell_type": "markdown",
      "source": [
        "**Inheritance**"
      ],
      "metadata": {
        "id": "hT9ERh1ceY_2"
      }
    },
    {
      "cell_type": "code",
      "source": [
        "class Student(Person):\n",
        "    def __init__(self,student_id,*args,**kwargs): # __init__ and __str__ are special methods called Dunder methods\n",
        "        super(Student,self) .__init__(*args,**kwargs)  # This calls the __init__ method of the parent class Person using super()\n",
        "        self._student_id=student_id  #super() call allows Student to reuse the Person class constructor.\n",
        "Kevin=Student(1,'Kevin','Boppanna',2002)  # ('Kevin', 'Boppanna', 2002) will be passed as *args to the Person class constructor through super()\n",
        "print(Kevin)  #Since the class doesn't have a __str__ or __repr__ method defined, the default __repr__ will print something like <class '__main__.Student'>\n",
        "print(type(Kevin))\n",
        "print(isinstance(Kevin,Person))\n",
        "print(isinstance(Kevin,object))"
      ],
      "metadata": {
        "colab": {
          "base_uri": "https://localhost:8080/"
        },
        "id": "yKuul0hujYlt",
        "outputId": "14ac6a8e-ebb6-472b-9c91-92fab02ee0b6"
      },
      "execution_count": 9,
      "outputs": [
        {
          "output_type": "stream",
          "name": "stdout",
          "text": [
            "Kevin Boppanna was born in 2002.\n",
            "<class '__main__.Student'>\n",
            "True\n",
            "True\n"
          ]
        }
      ]
    },
    {
      "cell_type": "markdown",
      "source": [
        "**Overriding Methods**"
      ],
      "metadata": {
        "id": "HMrLd-AmORSL"
      }
    },
    {
      "cell_type": "markdown",
      "source": [
        "Inheritance allows to add new methods to subclass and is useful to change the behaviour of the method defined in the super class. To override just define it again."
      ],
      "metadata": {
        "id": "l7JrGEPuOYU5"
      }
    },
    {
      "cell_type": "code",
      "source": [
        "class Student(Person):\n",
        "    def __init__(self,student_id,*args,**kwargs):\n",
        "        super(Student,self).__init__(*args,**kwargs)\n",
        "        self._student_id=student_id\n",
        "    def __str__(self):\n",
        "        return super(Student,self).__str__()+ \"And has ID:%d\"  %self._student_id\n",
        "Kevin=Student(7,'Kevin','Boppanna',2002)\n",
        "print(Kevin)\n"
      ],
      "metadata": {
        "colab": {
          "base_uri": "https://localhost:8080/"
        },
        "id": "j92hNLosO-aC",
        "outputId": "b2438cee-773d-4021-dcee-843636acdf6e"
      },
      "execution_count": 15,
      "outputs": [
        {
          "output_type": "stream",
          "name": "stdout",
          "text": [
            "Kevin Boppanna was born in 2002.And has ID:7\n"
          ]
        }
      ]
    },
    {
      "cell_type": "markdown",
      "source": [
        "**Encapsulation**"
      ],
      "metadata": {
        "id": "2K57fiGwUjNE"
      }
    },
    {
      "cell_type": "markdown",
      "source": [
        "\n",
        "1.Composition:Creating a simplified model and removing useless details from concepts\n",
        "\n",
        "2.Dynamic Extension( Dynamic Typing also called as DuckTyping):Polymorphism is the ability to use same syntax for objects of different types\n",
        "\n"
      ],
      "metadata": {
        "id": "1e2Dw85SZRDA"
      }
    },
    {
      "cell_type": "code",
      "source": [
        "def summer(a,b):\n",
        "    return (a+b)\n",
        "print(summer(1,1))\n",
        "print(summer(['a','b','c'],['d','e']))\n",
        "print(summer('abra','cadabra'))"
      ],
      "metadata": {
        "colab": {
          "base_uri": "https://localhost:8080/"
        },
        "id": "TE4DUtE6biUv",
        "outputId": "fe9bef5b-0b9c-4244-c117-1da7588319c1"
      },
      "execution_count": 17,
      "outputs": [
        {
          "output_type": "stream",
          "name": "stdout",
          "text": [
            "2\n",
            "['a', 'b', 'c', 'd', 'e']\n",
            "abracadabra\n"
          ]
        }
      ]
    },
    {
      "cell_type": "markdown",
      "source": [
        "**Files**"
      ],
      "metadata": {
        "id": "yABPctaiedvx"
      }
    },
    {
      "cell_type": "markdown",
      "source": [
        "**Ipython Writing a File**"
      ],
      "metadata": {
        "id": "Z8vOpwCPejMY"
      }
    },
    {
      "cell_type": "code",
      "source": [
        "%%writefile superman.txt\n",
        "Hello, this is a quick superman test file"
      ],
      "metadata": {
        "colab": {
          "base_uri": "https://localhost:8080/"
        },
        "id": "t5UaCEpiewgZ",
        "outputId": "7e75e2dd-27b0-40f9-a7d9-ac4afb436ac1"
      },
      "execution_count": 46,
      "outputs": [
        {
          "output_type": "stream",
          "name": "stdout",
          "text": [
            "Overwriting superman.txt\n"
          ]
        }
      ]
    },
    {
      "cell_type": "markdown",
      "source": [
        "**Opening a File**"
      ],
      "metadata": {
        "id": "9nCpDGMpfKdH"
      }
    },
    {
      "cell_type": "code",
      "source": [
        "my_file=open('superman.txt')"
      ],
      "metadata": {
        "id": "CRyl4RAIfsuk"
      },
      "execution_count": 47,
      "outputs": []
    },
    {
      "cell_type": "code",
      "source": [
        "my_file.read()"
      ],
      "metadata": {
        "colab": {
          "base_uri": "https://localhost:8080/",
          "height": 36
        },
        "id": "5LUDPKGkf0Yn",
        "outputId": "b13e46b8-3bfc-4a49-d0c4-aff503335a86"
      },
      "execution_count": 48,
      "outputs": [
        {
          "output_type": "execute_result",
          "data": {
            "text/plain": [
              "'Hello, this is a quick superman test file\\n'"
            ],
            "application/vnd.google.colaboratory.intrinsic+json": {
              "type": "string"
            }
          },
          "metadata": {},
          "execution_count": 48
        }
      ]
    },
    {
      "cell_type": "code",
      "source": [
        "my_file.read()"
      ],
      "metadata": {
        "colab": {
          "base_uri": "https://localhost:8080/",
          "height": 36
        },
        "id": "oHcoKe84gU3O",
        "outputId": "3970b7e6-33fd-4584-c651-9a9321654383"
      },
      "execution_count": 49,
      "outputs": [
        {
          "output_type": "execute_result",
          "data": {
            "text/plain": [
              "''"
            ],
            "application/vnd.google.colaboratory.intrinsic+json": {
              "type": "string"
            }
          },
          "metadata": {},
          "execution_count": 49
        }
      ]
    },
    {
      "cell_type": "code",
      "source": [
        "#seek():seek to the start of file (index 0)\n",
        "my_file.seek(0)"
      ],
      "metadata": {
        "colab": {
          "base_uri": "https://localhost:8080/"
        },
        "id": "sMQjJ1EqoRdG",
        "outputId": "d64cb40c-9029-4406-fec5-bdf723a66014"
      },
      "execution_count": 50,
      "outputs": [
        {
          "output_type": "execute_result",
          "data": {
            "text/plain": [
              "0"
            ]
          },
          "metadata": {},
          "execution_count": 50
        }
      ]
    },
    {
      "cell_type": "code",
      "source": [
        "my_file.readlines()"
      ],
      "metadata": {
        "colab": {
          "base_uri": "https://localhost:8080/"
        },
        "id": "bScr5ob_pFUg",
        "outputId": "869a54c7-1d89-42f4-b34f-5f79cd825487"
      },
      "execution_count": 51,
      "outputs": [
        {
          "output_type": "execute_result",
          "data": {
            "text/plain": [
              "['Hello, this is a quick superman test file\\n']"
            ]
          },
          "metadata": {},
          "execution_count": 51
        }
      ]
    },
    {
      "cell_type": "markdown",
      "source": [
        "**Writing to a File**"
      ],
      "metadata": {
        "id": "d4wVRwt5qNPz"
      }
    },
    {
      "cell_type": "code",
      "source": [
        "my_file=open('superman.txt','w+') #w refers to write"
      ],
      "metadata": {
        "id": "ch9cEhwWqSsu"
      },
      "execution_count": 80,
      "outputs": []
    },
    {
      "cell_type": "code",
      "source": [
        "my_file.write('This is how write function works')"
      ],
      "metadata": {
        "colab": {
          "base_uri": "https://localhost:8080/"
        },
        "id": "CYBgV0yLqvlb",
        "outputId": "557a97e5-032a-408c-866b-c4096162d3ac"
      },
      "execution_count": 81,
      "outputs": [
        {
          "output_type": "execute_result",
          "data": {
            "text/plain": [
              "32"
            ]
          },
          "metadata": {},
          "execution_count": 81
        }
      ]
    },
    {
      "cell_type": "code",
      "source": [
        "my_file.seek(0)"
      ],
      "metadata": {
        "colab": {
          "base_uri": "https://localhost:8080/"
        },
        "id": "9fudSx4IuTsE",
        "outputId": "7a6e7688-9591-4c11-ac93-f55c4fabb35e"
      },
      "execution_count": 82,
      "outputs": [
        {
          "output_type": "execute_result",
          "data": {
            "text/plain": [
              "0"
            ]
          },
          "metadata": {},
          "execution_count": 82
        }
      ]
    },
    {
      "cell_type": "code",
      "source": [
        "my_file.readlines()"
      ],
      "metadata": {
        "colab": {
          "base_uri": "https://localhost:8080/"
        },
        "id": "gGSBrLASuY00",
        "outputId": "5e86f22d-abfc-4c77-8bb4-8ce740fdb6c7"
      },
      "execution_count": 83,
      "outputs": [
        {
          "output_type": "execute_result",
          "data": {
            "text/plain": [
              "['This is how write function works']"
            ]
          },
          "metadata": {},
          "execution_count": 83
        }
      ]
    },
    {
      "cell_type": "markdown",
      "source": [
        "**Iterating through a File**"
      ],
      "metadata": {
        "id": "k3u-6SfqvX0F"
      }
    },
    {
      "cell_type": "code",
      "source": [
        "%%writefile test.txt\n",
        "First Line\n",
        "Second Line"
      ],
      "metadata": {
        "colab": {
          "base_uri": "https://localhost:8080/"
        },
        "id": "ve9WEeOUvoQN",
        "outputId": "10fa64bf-f1de-476a-b6d3-a41ab56f2eb6"
      },
      "execution_count": 84,
      "outputs": [
        {
          "output_type": "stream",
          "name": "stdout",
          "text": [
            "Writing test.txt\n"
          ]
        }
      ]
    },
    {
      "cell_type": "code",
      "source": [
        "for line in open('test.txt'):\n",
        "    print(line)"
      ],
      "metadata": {
        "colab": {
          "base_uri": "https://localhost:8080/"
        },
        "id": "eXtl9Nvuv3v2",
        "outputId": "c6999c7c-8025-44e0-ab21-ccc1223e66ed"
      },
      "execution_count": 85,
      "outputs": [
        {
          "output_type": "stream",
          "name": "stdout",
          "text": [
            "First Line\n",
            "\n",
            "Second Line\n",
            "\n"
          ]
        }
      ]
    },
    {
      "cell_type": "code",
      "source": [
        "for asdf in open('test.txt'):\n",
        "    print(asdf)"
      ],
      "metadata": {
        "colab": {
          "base_uri": "https://localhost:8080/"
        },
        "id": "uAACqpNDwOxY",
        "outputId": "a83dfa72-1750-4f02-e4df-e06ce963560a"
      },
      "execution_count": 86,
      "outputs": [
        {
          "output_type": "stream",
          "name": "stdout",
          "text": [
            "First Line\n",
            "\n",
            "Second Line\n",
            "\n"
          ]
        }
      ]
    },
    {
      "cell_type": "markdown",
      "source": [
        "**StringIO**\n",
        "\n",
        "Implements an in-memory file like object"
      ],
      "metadata": {
        "id": "6f0gFsGDwpl5"
      }
    },
    {
      "cell_type": "code",
      "source": [
        "from io import StringIO"
      ],
      "metadata": {
        "id": "ztQ_Vo6AwuTx"
      },
      "execution_count": 118,
      "outputs": []
    },
    {
      "cell_type": "code",
      "source": [
        "message='This is a normal string '"
      ],
      "metadata": {
        "id": "uJFONg4BxTW1"
      },
      "execution_count": 119,
      "outputs": []
    },
    {
      "cell_type": "code",
      "source": [
        "f=StringIO(message)"
      ],
      "metadata": {
        "id": "Ifbzg35QxbO4"
      },
      "execution_count": 120,
      "outputs": []
    },
    {
      "cell_type": "code",
      "source": [
        "f.read()"
      ],
      "metadata": {
        "colab": {
          "base_uri": "https://localhost:8080/",
          "height": 36
        },
        "id": "nQzAXH4xxk1m",
        "outputId": "96c18ad8-d625-434d-eaaf-004f7fd67e23"
      },
      "execution_count": 121,
      "outputs": [
        {
          "output_type": "execute_result",
          "data": {
            "text/plain": [
              "'This is a normal string '"
            ],
            "application/vnd.google.colaboratory.intrinsic+json": {
              "type": "string"
            }
          },
          "metadata": {},
          "execution_count": 121
        }
      ]
    },
    {
      "cell_type": "code",
      "source": [
        "f.write(' Second line written to the file like object')# o/p is the number of letters and spaces till the end of the line"
      ],
      "metadata": {
        "colab": {
          "base_uri": "https://localhost:8080/"
        },
        "id": "z1TmUfSExs-r",
        "outputId": "fee19ce7-8429-485b-8ebf-1e9b2e63680f"
      },
      "execution_count": 122,
      "outputs": [
        {
          "output_type": "execute_result",
          "data": {
            "text/plain": [
              "44"
            ]
          },
          "metadata": {},
          "execution_count": 122
        }
      ]
    },
    {
      "cell_type": "code",
      "source": [
        "f.seek(0)"
      ],
      "metadata": {
        "colab": {
          "base_uri": "https://localhost:8080/"
        },
        "id": "gGr6PmWzxja_",
        "outputId": "8ad79aca-f212-42ae-9ed9-603995439243"
      },
      "execution_count": 123,
      "outputs": [
        {
          "output_type": "execute_result",
          "data": {
            "text/plain": [
              "0"
            ]
          },
          "metadata": {},
          "execution_count": 123
        }
      ]
    },
    {
      "cell_type": "code",
      "source": [
        "f.readline()"
      ],
      "metadata": {
        "colab": {
          "base_uri": "https://localhost:8080/",
          "height": 36
        },
        "id": "tlxH3Bmgyj8i",
        "outputId": "a42f5227-cf54-4e4a-fb88-a7d1edb6a6d0"
      },
      "execution_count": 124,
      "outputs": [
        {
          "output_type": "execute_result",
          "data": {
            "text/plain": [
              "'This is a normal string  Second line written to the file like object'"
            ],
            "application/vnd.google.colaboratory.intrinsic+json": {
              "type": "string"
            }
          },
          "metadata": {},
          "execution_count": 124
        }
      ]
    }
  ]
}