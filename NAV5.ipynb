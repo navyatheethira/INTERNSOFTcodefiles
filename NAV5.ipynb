{
  "nbformat": 4,
  "nbformat_minor": 0,
  "metadata": {
    "colab": {
      "provenance": [],
      "authorship_tag": "ABX9TyOBy9/zt0CaWZs9VTARRO0f",
      "include_colab_link": true
    },
    "kernelspec": {
      "name": "python3",
      "display_name": "Python 3"
    },
    "language_info": {
      "name": "python"
    }
  },
  "cells": [
    {
      "cell_type": "markdown",
      "metadata": {
        "id": "view-in-github",
        "colab_type": "text"
      },
      "source": [
        "<a href=\"https://colab.research.google.com/github/navyatheethira/INTERNSOFTcodefiles/blob/main/NAV5.ipynb\" target=\"_parent\"><img src=\"https://colab.research.google.com/assets/colab-badge.svg\" alt=\"Open In Colab\"/></a>"
      ]
    },
    {
      "cell_type": "markdown",
      "source": [
        "**Modules and Packages**"
      ],
      "metadata": {
        "id": "1ZokGI09d_zs"
      }
    },
    {
      "cell_type": "code",
      "source": [
        "import math"
      ],
      "metadata": {
        "id": "ci8OY6nVdsrI"
      },
      "execution_count": 19,
      "outputs": []
    },
    {
      "cell_type": "code",
      "source": [
        "math.ceil(2.4)"
      ],
      "metadata": {
        "colab": {
          "base_uri": "https://localhost:8080/"
        },
        "id": "WWPzMGWgdn_8",
        "outputId": "50ba4e30-7826-4689-85d1-28cd298d38b3"
      },
      "execution_count": 20,
      "outputs": [
        {
          "output_type": "execute_result",
          "data": {
            "text/plain": [
              "3"
            ]
          },
          "metadata": {},
          "execution_count": 20
        }
      ]
    },
    {
      "cell_type": "code",
      "source": [
        "math.floor(2.4)"
      ],
      "metadata": {
        "colab": {
          "base_uri": "https://localhost:8080/"
        },
        "id": "9PhG_iF3dkEM",
        "outputId": "67be4788-be4d-480a-c0b1-98dbe2551300"
      },
      "execution_count": 21,
      "outputs": [
        {
          "output_type": "execute_result",
          "data": {
            "text/plain": [
              "2"
            ]
          },
          "metadata": {},
          "execution_count": 21
        }
      ]
    },
    {
      "cell_type": "markdown",
      "source": [
        "**Exploring Built-In Modules**"
      ],
      "metadata": {
        "id": "JArFkm1-eMm1"
      }
    },
    {
      "cell_type": "code",
      "source": [
        "print(dir(math))"
      ],
      "metadata": {
        "colab": {
          "base_uri": "https://localhost:8080/"
        },
        "id": "2Sn_1i9KdfrL",
        "outputId": "5f1498ba-7d1f-425b-b046-51f88bc8b04c"
      },
      "execution_count": 22,
      "outputs": [
        {
          "output_type": "stream",
          "name": "stdout",
          "text": [
            "['__doc__', '__loader__', '__name__', '__package__', '__spec__', 'acos', 'acosh', 'asin', 'asinh', 'atan', 'atan2', 'atanh', 'ceil', 'comb', 'copysign', 'cos', 'cosh', 'degrees', 'dist', 'e', 'erf', 'erfc', 'exp', 'expm1', 'fabs', 'factorial', 'floor', 'fmod', 'frexp', 'fsum', 'gamma', 'gcd', 'hypot', 'inf', 'isclose', 'isfinite', 'isinf', 'isnan', 'isqrt', 'lcm', 'ldexp', 'lgamma', 'log', 'log10', 'log1p', 'log2', 'modf', 'nan', 'nextafter', 'perm', 'pi', 'pow', 'prod', 'radians', 'remainder', 'sin', 'sinh', 'sqrt', 'tan', 'tanh', 'tau', 'trunc', 'ulp']\n"
          ]
        }
      ]
    },
    {
      "cell_type": "code",
      "source": [
        "help(math.ceil)"
      ],
      "metadata": {
        "colab": {
          "base_uri": "https://localhost:8080/"
        },
        "id": "j-A_uNlHdeKZ",
        "outputId": "f1ee2963-8121-4999-b7cd-036144a1df8c"
      },
      "execution_count": 23,
      "outputs": [
        {
          "output_type": "stream",
          "name": "stdout",
          "text": [
            "Help on built-in function ceil in module math:\n",
            "\n",
            "ceil(x, /)\n",
            "    Return the ceiling of x as an Integral.\n",
            "    \n",
            "    This is the smallest integer >= x.\n",
            "\n"
          ]
        }
      ]
    },
    {
      "cell_type": "markdown",
      "source": [
        "Writing Modules and Packages: Creating packages with .py extension and calling the packages by using import command.\n",
        "Packages are name-spaces which contains multiple modules and poackages themselves\n",
        "Each package in python is a directory which must contain special file called init.py, consider an eg directory foo as package & bar as module"
      ],
      "metadata": {
        "id": "bDJQFVwveXod"
      }
    },
    {
      "cell_type": "code",
      "source": [
        "import foo.bar"
      ],
      "metadata": {
        "id": "xmxrmrsndXEP"
      },
      "execution_count": null,
      "outputs": []
    },
    {
      "cell_type": "code",
      "source": [
        "from foo import bar"
      ],
      "metadata": {
        "id": "rs7krCuIdRDp"
      },
      "execution_count": null,
      "outputs": []
    },
    {
      "cell_type": "code",
      "source": [
        "__init__.py\n",
        "__all__=[\"bar\"]"
      ],
      "metadata": {
        "id": "80sYeLKLdNEz"
      },
      "execution_count": null,
      "outputs": []
    },
    {
      "cell_type": "markdown",
      "source": [
        "**Errors and Exception Handling**"
      ],
      "metadata": {
        "id": "zX7C-H_4e_R5"
      }
    },
    {
      "cell_type": "code",
      "source": [
        "print('Hello)"
      ],
      "metadata": {
        "colab": {
          "base_uri": "https://localhost:8080/",
          "height": 106
        },
        "id": "CXezFOvQdHw6",
        "outputId": "a883eedd-2730-4a85-b739-17dc3098767b"
      },
      "execution_count": 18,
      "outputs": [
        {
          "output_type": "error",
          "ename": "SyntaxError",
          "evalue": "unterminated string literal (detected at line 1) (<ipython-input-18-db8c9988558c>, line 1)",
          "traceback": [
            "\u001b[0;36m  File \u001b[0;32m\"<ipython-input-18-db8c9988558c>\"\u001b[0;36m, line \u001b[0;32m1\u001b[0m\n\u001b[0;31m    print('Hello)\u001b[0m\n\u001b[0m          ^\u001b[0m\n\u001b[0;31mSyntaxError\u001b[0m\u001b[0;31m:\u001b[0m unterminated string literal (detected at line 1)\n"
          ]
        }
      ]
    },
    {
      "cell_type": "markdown",
      "source": [
        "This indicates the End of Line(EOL) error because of the missing single quotes.\n",
        "Though code is syntactically correct it may cause an error when attempt is made to execute it.\n",
        "Errors detected during execution are called Exceptions & are not unconditonally fatal."
      ],
      "metadata": {
        "id": "zvkzw_F1fH-4"
      }
    },
    {
      "cell_type": "markdown",
      "source": [
        "**try and except**"
      ],
      "metadata": {
        "id": "KLLxVTEffKM8"
      }
    },
    {
      "cell_type": "code",
      "source": [
        "try:\n",
        "    f=open('testfile','w')\n",
        "    f.write('Write this code')\n",
        "except IOError:\n",
        "    print('Error:Could not find file or read data')\n",
        "else:\n",
        "    print('Content written successfully')\n",
        "    f.close()"
      ],
      "metadata": {
        "colab": {
          "base_uri": "https://localhost:8080/"
        },
        "id": "53TVjNb1dCMI",
        "outputId": "14f75682-6e83-4688-b801-11e73adf908c"
      },
      "execution_count": 17,
      "outputs": [
        {
          "output_type": "stream",
          "name": "stdout",
          "text": [
            "Content written successfully\n"
          ]
        }
      ]
    },
    {
      "cell_type": "markdown",
      "source": [
        "**When we dont give write permissions**"
      ],
      "metadata": {
        "id": "KIeGYTYGfZXv"
      }
    },
    {
      "cell_type": "code",
      "source": [
        "try:\n",
        "    f=open('testfile','r')\n",
        "    f.write(\"Write this code\")\n",
        "except IOError:\n",
        "    print(\"Error:Could not find file or read data\")\n",
        "else:\n",
        "    print(\"Content written successfully\")\n",
        "    f.close()\n",
        ""
      ],
      "metadata": {
        "colab": {
          "base_uri": "https://localhost:8080/"
        },
        "id": "5rjUvJioc_9f",
        "outputId": "49c4d42b-3dc6-4429-c300-143853dc4954"
      },
      "execution_count": 16,
      "outputs": [
        {
          "output_type": "stream",
          "name": "stdout",
          "text": [
            "Error:Could not find file or read data\n"
          ]
        }
      ]
    },
    {
      "cell_type": "markdown",
      "source": [
        "**If we were not sure that exceptions would occur**"
      ],
      "metadata": {
        "id": "hjRyLN8QfkBI"
      }
    },
    {
      "cell_type": "code",
      "source": [
        "try:\n",
        "    f=open('testfile','w')\n",
        "    f.write(\"Write this code\")\n",
        "except:\n",
        "    print(\"Error:Could not find file or read data\")\n",
        "else:\n",
        "    print(\"Content written successfully\")\n",
        "    f.close()"
      ],
      "metadata": {
        "colab": {
          "base_uri": "https://localhost:8080/"
        },
        "id": "6cz42VHac5rO",
        "outputId": "2ae6cdac-c5bf-4072-9186-df3490c40088"
      },
      "execution_count": 15,
      "outputs": [
        {
          "output_type": "stream",
          "name": "stdout",
          "text": [
            "Content written successfully\n"
          ]
        }
      ]
    },
    {
      "cell_type": "markdown",
      "source": [
        "**finally** :Block of code will always run regardless if there was an exception in the try block code."
      ],
      "metadata": {
        "id": "w7WQUB7Yfsmy"
      }
    },
    {
      "cell_type": "code",
      "source": [
        "try:\n",
        "    f=open(\"testfile\",\"w\")\n",
        "    f.write(\"Write this test code\")\n",
        "finally:\n",
        "    print(\"Always executes the block of code\")"
      ],
      "metadata": {
        "colab": {
          "base_uri": "https://localhost:8080/"
        },
        "id": "HMYTHUU5cwZj",
        "outputId": "bc5f36b7-479c-453b-abf4-bbd4c377ff6d"
      },
      "execution_count": 14,
      "outputs": [
        {
          "output_type": "stream",
          "name": "stdout",
          "text": [
            "Always executes the block of code\n"
          ]
        }
      ]
    },
    {
      "cell_type": "code",
      "source": [
        "def askint():\n",
        "    try:\n",
        "        val = int(input(\"Please enter a valid integer: \"))\n",
        "    except:\n",
        "        print(\"Looks like you did not enter a valid integer! \")\n",
        "    finally:\n",
        "        print(\"Finally, I executed the code\")\n",
        "    print(val)\n",
        "\n",
        "askint()\n"
      ],
      "metadata": {
        "colab": {
          "base_uri": "https://localhost:8080/"
        },
        "id": "vs4P9MYFchlL",
        "outputId": "313a9509-3f76-4c12-ad51-68fc6532e767"
      },
      "execution_count": 13,
      "outputs": [
        {
          "output_type": "stream",
          "name": "stdout",
          "text": [
            "Please enter a valid integer: 201251\n",
            "Finally, I executed the code\n",
            "201251\n"
          ]
        }
      ]
    },
    {
      "cell_type": "code",
      "source": [
        "def askint():\n",
        "    try:\n",
        "        val = int(input(\"Please enter a valid integer: \"))\n",
        "    except:\n",
        "        print(\"Looks like you did not enter a valid integer! \")\n",
        "    finally:\n",
        "        print(\"Finally, I executed the code\")\n",
        "    print(val)\n",
        "\n",
        "askint()"
      ],
      "metadata": {
        "colab": {
          "base_uri": "https://localhost:8080/",
          "height": 349
        },
        "id": "Cmbom7vhcTuQ",
        "outputId": "f15278ab-d712-4bc5-aa51-350ec3af8ea2"
      },
      "execution_count": 12,
      "outputs": [
        {
          "output_type": "stream",
          "name": "stdout",
          "text": [
            "Please enter a valid integer: nav@2k24\n",
            "Looks like you did not enter a valid integer! \n",
            "Finally, I executed the code\n"
          ]
        },
        {
          "output_type": "error",
          "ename": "UnboundLocalError",
          "evalue": "local variable 'val' referenced before assignment",
          "traceback": [
            "\u001b[0;31m---------------------------------------------------------------------------\u001b[0m",
            "\u001b[0;31mUnboundLocalError\u001b[0m                         Traceback (most recent call last)",
            "\u001b[0;32m<ipython-input-12-421a3ea4b3f6>\u001b[0m in \u001b[0;36m<cell line: 10>\u001b[0;34m()\u001b[0m\n\u001b[1;32m      8\u001b[0m     \u001b[0mprint\u001b[0m\u001b[0;34m(\u001b[0m\u001b[0mval\u001b[0m\u001b[0;34m)\u001b[0m\u001b[0;34m\u001b[0m\u001b[0;34m\u001b[0m\u001b[0m\n\u001b[1;32m      9\u001b[0m \u001b[0;34m\u001b[0m\u001b[0m\n\u001b[0;32m---> 10\u001b[0;31m \u001b[0maskint\u001b[0m\u001b[0;34m(\u001b[0m\u001b[0;34m)\u001b[0m\u001b[0;34m\u001b[0m\u001b[0;34m\u001b[0m\u001b[0m\n\u001b[0m",
            "\u001b[0;32m<ipython-input-12-421a3ea4b3f6>\u001b[0m in \u001b[0;36maskint\u001b[0;34m()\u001b[0m\n\u001b[1;32m      6\u001b[0m     \u001b[0;32mfinally\u001b[0m\u001b[0;34m:\u001b[0m\u001b[0;34m\u001b[0m\u001b[0;34m\u001b[0m\u001b[0m\n\u001b[1;32m      7\u001b[0m         \u001b[0mprint\u001b[0m\u001b[0;34m(\u001b[0m\u001b[0;34m\"Finally, I executed the code\"\u001b[0m\u001b[0;34m)\u001b[0m\u001b[0;34m\u001b[0m\u001b[0;34m\u001b[0m\u001b[0m\n\u001b[0;32m----> 8\u001b[0;31m     \u001b[0mprint\u001b[0m\u001b[0;34m(\u001b[0m\u001b[0mval\u001b[0m\u001b[0;34m)\u001b[0m\u001b[0;34m\u001b[0m\u001b[0;34m\u001b[0m\u001b[0m\n\u001b[0m\u001b[1;32m      9\u001b[0m \u001b[0;34m\u001b[0m\u001b[0m\n\u001b[1;32m     10\u001b[0m \u001b[0maskint\u001b[0m\u001b[0;34m(\u001b[0m\u001b[0;34m)\u001b[0m\u001b[0;34m\u001b[0m\u001b[0;34m\u001b[0m\u001b[0m\n",
            "\u001b[0;31mUnboundLocalError\u001b[0m: local variable 'val' referenced before assignment"
          ]
        }
      ]
    },
    {
      "cell_type": "code",
      "source": [
        "def askint():\n",
        "    try:\n",
        "        val = int(input(\"Please enter a valid integer: \"))\n",
        "    except:\n",
        "        print(\"Looks like you did not enter a valid integer! \")\n",
        "        val=int(input(\"Try Again-Please enter a valid integer\"))\n",
        "    finally:\n",
        "        print(\"Finally, I executed the code\")\n",
        "    print(val)\n",
        "\n",
        "askint()\n"
      ],
      "metadata": {
        "colab": {
          "base_uri": "https://localhost:8080/"
        },
        "id": "SdCb-DAscHJz",
        "outputId": "c7b925ad-2383-4e7b-d087-67e4adcc2a7d"
      },
      "execution_count": 11,
      "outputs": [
        {
          "output_type": "stream",
          "name": "stdout",
          "text": [
            "Please enter a valid integer: s&29\n",
            "Looks like you did not enter a valid integer! \n",
            "Try Again-Please enter a valid integer7585\n",
            "Finally, I executed the code\n",
            "7585\n"
          ]
        }
      ]
    },
    {
      "cell_type": "code",
      "source": [
        "def askint():\n",
        "    while True:\n",
        "        try:\n",
        "            val = int(input(\"Please enter a valid integer: \"))\n",
        "        except:\n",
        "            print(\"Looks like you did not enter a valid integer! \")\n",
        "            continue\n",
        "        else:\n",
        "            print(\"Yep ..!Its an valid integer\")\n",
        "            break\n",
        "        finally:\n",
        "            print(\"Finally, I executed the code\")\n",
        "        print(val)\n",
        "\n",
        "askint()\n"
      ],
      "metadata": {
        "colab": {
          "base_uri": "https://localhost:8080/"
        },
        "id": "wfzxYoAQbviD",
        "outputId": "5d8681ca-fa7a-4142-edc1-aeaaa281d246"
      },
      "execution_count": 10,
      "outputs": [
        {
          "output_type": "stream",
          "name": "stdout",
          "text": [
            "Please enter a valid integer: nv123\n",
            "Looks like you did not enter a valid integer! \n",
            "Finally, I executed the code\n",
            "Please enter a valid integer: 777\n",
            "Yep ..!Its an valid integer\n",
            "Finally, I executed the code\n"
          ]
        }
      ]
    },
    {
      "cell_type": "markdown",
      "source": [
        "**Database Connectivity and Operations using Python**"
      ],
      "metadata": {
        "id": "35Vm-DxUgWqZ"
      }
    },
    {
      "cell_type": "code",
      "execution_count": 9,
      "metadata": {
        "id": "zBHEStXucWDg",
        "colab": {
          "base_uri": "https://localhost:8080/"
        },
        "outputId": "bb5527e3-5fa8-4c61-f3f0-29f736131e69"
      },
      "outputs": [
        {
          "output_type": "execute_result",
          "data": {
            "text/plain": [
              "<sqlite3.Cursor at 0x7df45a352040>"
            ]
          },
          "metadata": {},
          "execution_count": 9
        }
      ],
      "source": [
        "import sqlite3\n",
        "db=sqlite3.connect(\"my_database1.db\")\n",
        "db.execute(\"drop table if exists grades1\") #execute() is used to manipulate the table\n",
        "db.execute(\"create table grades1(id int, name text,score int)\")\n",
        "db.execute(\"insert into grades1(id,name,score)values(1,'Brown',100)\")\n",
        "db.execute(\"insert into grades1(id,name,score)values(2,'Mahi',96)\")\n",
        "db.execute(\"insert into grades1(id,name,score)values(3,'Manavi',89)\")\n",
        "db.execute(\"insert into grades1(id,name,score)values(4,'Mahitha',91)\")\n",
        "db.execute(\"insert into grades1(id,name,score)values(5,'Mona',100)\")"
      ]
    },
    {
      "cell_type": "code",
      "source": [
        "db.commit()"
      ],
      "metadata": {
        "id": "5mMPOlNWa9T1"
      },
      "execution_count": 2,
      "outputs": []
    },
    {
      "cell_type": "code",
      "source": [
        "result=db.execute(\"select * from grades1 order by id\")\n",
        "for row in result:\n",
        "    print(row)\n",
        "print(\"-\"*60)"
      ],
      "metadata": {
        "colab": {
          "base_uri": "https://localhost:8080/"
        },
        "id": "epdtUfxQbDo6",
        "outputId": "1b297199-8fe5-4fa3-98e4-5f6f4474c1f5"
      },
      "execution_count": 3,
      "outputs": [
        {
          "output_type": "stream",
          "name": "stdout",
          "text": [
            "(1, 'Brown', 100)\n",
            "(2, 'Mahi', 96)\n",
            "(3, 'Manavi', 89)\n",
            "(4, 'Mahitha', 91)\n",
            "(5, 'Mona', 100)\n",
            "------------------------------------------------------------\n"
          ]
        }
      ]
    },
    {
      "cell_type": "code",
      "source": [
        "result=db.execute(\"select * from grades1 where name='Mona'\")\n",
        "for row in result:\n",
        "    print(row)\n",
        "print(\"-\"*60)"
      ],
      "metadata": {
        "colab": {
          "base_uri": "https://localhost:8080/"
        },
        "id": "MgGgWc3ybP7W",
        "outputId": "8e0c5db4-81ec-42f8-937e-90913efa3198"
      },
      "execution_count": 4,
      "outputs": [
        {
          "output_type": "stream",
          "name": "stdout",
          "text": [
            "(5, 'Mona', 100)\n",
            "------------------------------------------------------------\n"
          ]
        }
      ]
    },
    {
      "cell_type": "code",
      "source": [
        "result=db.execute(\"select * from grades1 where score >=90\")\n",
        "for row in result:\n",
        "    print(row)\n",
        "print(\"-\"*60)"
      ],
      "metadata": {
        "colab": {
          "base_uri": "https://localhost:8080/"
        },
        "id": "rmfpMFoJbUjq",
        "outputId": "2eddf02a-ba2a-4d3a-dd64-2221ecac00c1"
      },
      "execution_count": 5,
      "outputs": [
        {
          "output_type": "stream",
          "name": "stdout",
          "text": [
            "(1, 'Brown', 100)\n",
            "(2, 'Mahi', 96)\n",
            "(4, 'Mahitha', 91)\n",
            "(5, 'Mona', 100)\n",
            "------------------------------------------------------------\n"
          ]
        }
      ]
    },
    {
      "cell_type": "code",
      "source": [
        "result=db.execute(\"select name, score from grades1 order by score desc\")\n",
        "for row in result:\n",
        "    print(row)\n",
        "print(\"-\"*60)"
      ],
      "metadata": {
        "colab": {
          "base_uri": "https://localhost:8080/"
        },
        "id": "xK8PONXJbcVg",
        "outputId": "5fb3b10a-1f55-4568-828e-6bc006f68745"
      },
      "execution_count": 6,
      "outputs": [
        {
          "output_type": "stream",
          "name": "stdout",
          "text": [
            "('Brown', 100)\n",
            "('Mona', 100)\n",
            "('Mahi', 96)\n",
            "('Mahitha', 91)\n",
            "('Manavi', 89)\n",
            "------------------------------------------------------------\n"
          ]
        }
      ]
    },
    {
      "cell_type": "code",
      "source": [
        "result=db.execute(\"select name, score from grades1 order by score\")\n",
        "for row in result:\n",
        "    print(row)\n",
        "print(\"-\"*60)"
      ],
      "metadata": {
        "colab": {
          "base_uri": "https://localhost:8080/"
        },
        "id": "FANOW75Mbm2E",
        "outputId": "a75cb5ff-fe98-4fd3-8a2e-66f6dc3840ff"
      },
      "execution_count": 7,
      "outputs": [
        {
          "output_type": "stream",
          "name": "stdout",
          "text": [
            "('Manavi', 89)\n",
            "('Mahitha', 91)\n",
            "('Mahi', 96)\n",
            "('Brown', 100)\n",
            "('Mona', 100)\n",
            "------------------------------------------------------------\n"
          ]
        }
      ]
    },
    {
      "cell_type": "code",
      "source": [
        "result=db.execute(\"select name, score from grades1 order by score\")\n",
        "for row in result:\n",
        "    print(row)"
      ],
      "metadata": {
        "colab": {
          "base_uri": "https://localhost:8080/"
        },
        "id": "X2xjCz5_bsKF",
        "outputId": "e3878ef1-9d6a-4c1d-ee1d-9987ab2d0f52"
      },
      "execution_count": 8,
      "outputs": [
        {
          "output_type": "stream",
          "name": "stdout",
          "text": [
            "('Manavi', 89)\n",
            "('Mahitha', 91)\n",
            "('Mahi', 96)\n",
            "('Brown', 100)\n",
            "('Mona', 100)\n"
          ]
        }
      ]
    }
  ]
}