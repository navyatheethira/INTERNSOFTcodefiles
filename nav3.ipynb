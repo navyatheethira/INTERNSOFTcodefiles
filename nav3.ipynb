{
  "nbformat": 4,
  "nbformat_minor": 0,
  "metadata": {
    "colab": {
      "provenance": [],
      "authorship_tag": "ABX9TyNkKHYWtEDnjcYK0nfGy+fq",
      "include_colab_link": true
    },
    "kernelspec": {
      "name": "python3",
      "display_name": "Python 3"
    },
    "language_info": {
      "name": "python"
    }
  },
  "cells": [
    {
      "cell_type": "markdown",
      "metadata": {
        "id": "view-in-github",
        "colab_type": "text"
      },
      "source": [
        "<a href=\"https://colab.research.google.com/github/navyatheethira/INTERNSOFTcodefiles/blob/main/nav3.ipynb\" target=\"_parent\"><img src=\"https://colab.research.google.com/assets/colab-badge.svg\" alt=\"Open In Colab\"/></a>"
      ]
    },
    {
      "cell_type": "markdown",
      "source": [
        "**Tuples**"
      ],
      "metadata": {
        "id": "ZSRrxF9m_tpf"
      }
    },
    {
      "cell_type": "markdown",
      "source": [
        "Constructing Tuples"
      ],
      "metadata": {
        "id": "Tu_KFIGEEcUT"
      }
    },
    {
      "cell_type": "code",
      "source": [
        "t=(1,2,3)\n",
        "len(t)\n"
      ],
      "metadata": {
        "colab": {
          "base_uri": "https://localhost:8080/"
        },
        "id": "JMRbRIi-Ei2v",
        "outputId": "e4ebc5f1-0e56-462f-fc93-0d0a310d0d5f"
      },
      "execution_count": null,
      "outputs": [
        {
          "output_type": "execute_result",
          "data": {
            "text/plain": [
              "3"
            ]
          },
          "metadata": {},
          "execution_count": 1
        }
      ]
    },
    {
      "cell_type": "code",
      "source": [
        "t=('one',2)\n",
        "t"
      ],
      "metadata": {
        "colab": {
          "base_uri": "https://localhost:8080/"
        },
        "id": "PESYA9eXFiH_",
        "outputId": "54f89b58-865d-486f-b4f2-575cd0a8e694"
      },
      "execution_count": null,
      "outputs": [
        {
          "output_type": "execute_result",
          "data": {
            "text/plain": [
              "('one', 2)"
            ]
          },
          "metadata": {},
          "execution_count": 2
        }
      ]
    },
    {
      "cell_type": "code",
      "source": [
        "t[0]\n"
      ],
      "metadata": {
        "colab": {
          "base_uri": "https://localhost:8080/",
          "height": 35
        },
        "id": "1v1lzJi1FzJn",
        "outputId": "b86c3744-3565-47f8-a825-e9ce84dca33d"
      },
      "execution_count": null,
      "outputs": [
        {
          "output_type": "execute_result",
          "data": {
            "text/plain": [
              "'one'"
            ],
            "application/vnd.google.colaboratory.intrinsic+json": {
              "type": "string"
            }
          },
          "metadata": {},
          "execution_count": 3
        }
      ]
    },
    {
      "cell_type": "code",
      "source": [
        "#indexing is always done using square brackets\n",
        "t[-1]"
      ],
      "metadata": {
        "colab": {
          "base_uri": "https://localhost:8080/"
        },
        "id": "gvCMFVrJF6He",
        "outputId": "6bc0091d-cc73-481c-b3e8-6ca475e64b35"
      },
      "execution_count": null,
      "outputs": [
        {
          "output_type": "execute_result",
          "data": {
            "text/plain": [
              "2"
            ]
          },
          "metadata": {},
          "execution_count": 4
        }
      ]
    },
    {
      "cell_type": "markdown",
      "source": [
        "**Basic Tuple Methods**"
      ],
      "metadata": {
        "id": "TkGDC9i6prqt"
      }
    },
    {
      "cell_type": "code",
      "source": [
        "t=('one',2)\n",
        "t.index('one')"
      ],
      "metadata": {
        "colab": {
          "base_uri": "https://localhost:8080/"
        },
        "id": "cUwFig-IpzWh",
        "outputId": "1f52674a-76e1-487c-91d5-47d1ab7d332b"
      },
      "execution_count": null,
      "outputs": [
        {
          "output_type": "execute_result",
          "data": {
            "text/plain": [
              "0"
            ]
          },
          "metadata": {},
          "execution_count": 4
        }
      ]
    },
    {
      "cell_type": "code",
      "source": [],
      "metadata": {
        "id": "IWq9MDHPtKdn"
      },
      "execution_count": null,
      "outputs": []
    },
    {
      "cell_type": "markdown",
      "source": [
        "**Immutability**"
      ],
      "metadata": {
        "id": "RUCynmlWtOts"
      }
    },
    {
      "cell_type": "code",
      "source": [
        "#immutable-which cannot be changed\n",
        "t[0]='change'"
      ],
      "metadata": {
        "colab": {
          "base_uri": "https://localhost:8080/",
          "height": 158
        },
        "id": "8TTJoc2stSfk",
        "outputId": "ea360c60-3bb7-4488-80a6-9ad5440afb81"
      },
      "execution_count": null,
      "outputs": [
        {
          "output_type": "error",
          "ename": "TypeError",
          "evalue": "'tuple' object does not support item assignment",
          "traceback": [
            "\u001b[0;31m---------------------------------------------------------------------------\u001b[0m",
            "\u001b[0;31mTypeError\u001b[0m                                 Traceback (most recent call last)",
            "\u001b[0;32m<ipython-input-11-03cb4addfee9>\u001b[0m in \u001b[0;36m<cell line: 2>\u001b[0;34m()\u001b[0m\n\u001b[1;32m      1\u001b[0m \u001b[0;31m#immutable-which cannot be changed\u001b[0m\u001b[0;34m\u001b[0m\u001b[0;34m\u001b[0m\u001b[0m\n\u001b[0;32m----> 2\u001b[0;31m \u001b[0mt\u001b[0m\u001b[0;34m[\u001b[0m\u001b[0;36m0\u001b[0m\u001b[0;34m]\u001b[0m\u001b[0;34m=\u001b[0m\u001b[0;34m'change'\u001b[0m\u001b[0;34m\u001b[0m\u001b[0;34m\u001b[0m\u001b[0m\n\u001b[0m",
            "\u001b[0;31mTypeError\u001b[0m: 'tuple' object does not support item assignment"
          ]
        }
      ]
    },
    {
      "cell_type": "code",
      "source": [
        "t.append('nope')"
      ],
      "metadata": {
        "colab": {
          "base_uri": "https://localhost:8080/",
          "height": 141
        },
        "id": "VRcc6hyCti6P",
        "outputId": "1371734f-6197-489c-ed4b-957fffbbec65"
      },
      "execution_count": null,
      "outputs": [
        {
          "output_type": "error",
          "ename": "AttributeError",
          "evalue": "'tuple' object has no attribute 'append'",
          "traceback": [
            "\u001b[0;31m---------------------------------------------------------------------------\u001b[0m",
            "\u001b[0;31mAttributeError\u001b[0m                            Traceback (most recent call last)",
            "\u001b[0;32m<ipython-input-13-b75f5b09ac19>\u001b[0m in \u001b[0;36m<cell line: 1>\u001b[0;34m()\u001b[0m\n\u001b[0;32m----> 1\u001b[0;31m \u001b[0mt\u001b[0m\u001b[0;34m.\u001b[0m\u001b[0mappend\u001b[0m\u001b[0;34m(\u001b[0m\u001b[0;34m'nope'\u001b[0m\u001b[0;34m)\u001b[0m\u001b[0;34m\u001b[0m\u001b[0;34m\u001b[0m\u001b[0m\n\u001b[0m",
            "\u001b[0;31mAttributeError\u001b[0m: 'tuple' object has no attribute 'append'"
          ]
        }
      ]
    },
    {
      "cell_type": "markdown",
      "source": [
        "**Sets**\n",
        "unordered collection of unique elements which can be constructed using set()"
      ],
      "metadata": {
        "id": "T1d4I8NCuYfQ"
      }
    },
    {
      "cell_type": "code",
      "source": [
        "#sets are represented using curly braces{}\n",
        "x=set()\n",
        "x.add(1)\n",
        "x"
      ],
      "metadata": {
        "colab": {
          "base_uri": "https://localhost:8080/"
        },
        "id": "ccbh-pD5vTGE",
        "outputId": "08bd9138-2b23-40b4-d22e-409520446a62"
      },
      "execution_count": null,
      "outputs": [
        {
          "output_type": "execute_result",
          "data": {
            "text/plain": [
              "{1}"
            ]
          },
          "metadata": {},
          "execution_count": 15
        }
      ]
    },
    {
      "cell_type": "code",
      "source": [
        "x.add(2)\n",
        "x"
      ],
      "metadata": {
        "colab": {
          "base_uri": "https://localhost:8080/"
        },
        "id": "L3OX6tWQ0hvy",
        "outputId": "dd543ce8-24f7-4a7b-a715-3d13a85db91a"
      },
      "execution_count": null,
      "outputs": [
        {
          "output_type": "execute_result",
          "data": {
            "text/plain": [
              "{1, 2}"
            ]
          },
          "metadata": {},
          "execution_count": 16
        }
      ]
    },
    {
      "cell_type": "code",
      "source": [
        "#sets cannot add repetitive elements\n",
        "x.add(1)\n",
        "x"
      ],
      "metadata": {
        "colab": {
          "base_uri": "https://localhost:8080/"
        },
        "id": "-EV6cdSX0pQn",
        "outputId": "41b45e74-5ca5-4e12-ff57-734b55589276"
      },
      "execution_count": null,
      "outputs": [
        {
          "output_type": "execute_result",
          "data": {
            "text/plain": [
              "{1, 2}"
            ]
          },
          "metadata": {},
          "execution_count": 17
        }
      ]
    },
    {
      "cell_type": "code",
      "source": [
        "#executes only the unique elements\n",
        "l=[1,1,2,2,3,4,5,6,1,1]\n",
        "set(l)"
      ],
      "metadata": {
        "colab": {
          "base_uri": "https://localhost:8080/"
        },
        "id": "o5nBbN9m1NYg",
        "outputId": "98ca064a-559e-4b10-f5bc-a26cb8750a92"
      },
      "execution_count": null,
      "outputs": [
        {
          "output_type": "execute_result",
          "data": {
            "text/plain": [
              "{1, 2, 3, 4, 5, 6}"
            ]
          },
          "metadata": {},
          "execution_count": 18
        }
      ]
    },
    {
      "cell_type": "markdown",
      "source": [
        "**Dictionaries**"
      ],
      "metadata": {
        "id": "vmeBolBv2H9N"
      }
    },
    {
      "cell_type": "markdown",
      "source": [
        "**Mappings** -Association between key and associated value"
      ],
      "metadata": {
        "id": "NhnuMKEP9qSX"
      }
    },
    {
      "cell_type": "markdown",
      "source": [],
      "metadata": {
        "id": "3sdWo4Nc-M5R"
      }
    },
    {
      "cell_type": "markdown",
      "source": [
        "**Constructing a dictionary**"
      ],
      "metadata": {
        "id": "pxyA9wqp-D3t"
      }
    },
    {
      "cell_type": "code",
      "source": [
        "my_dict={'key1':'value1','key2':'value2'}\n",
        "my_dict['key2']"
      ],
      "metadata": {
        "colab": {
          "base_uri": "https://localhost:8080/",
          "height": 35
        },
        "id": "JzhjTdPB-iO5",
        "outputId": "427ecb33-ecdc-4120-e5b8-58cb74a1fc60"
      },
      "execution_count": null,
      "outputs": [
        {
          "output_type": "execute_result",
          "data": {
            "text/plain": [
              "'value2'"
            ],
            "application/vnd.google.colaboratory.intrinsic+json": {
              "type": "string"
            }
          },
          "metadata": {},
          "execution_count": 21
        }
      ]
    },
    {
      "cell_type": "code",
      "source": [
        "my_dict={'key1':123,'key2':[12,23,33],'key3':['item 0','item 1','item 2']}\n",
        "my_dict['key3']"
      ],
      "metadata": {
        "colab": {
          "base_uri": "https://localhost:8080/"
        },
        "id": "ZdFiP2rv_Re5",
        "outputId": "1cf8ed80-e0b0-4961-8724-b9e449f72548"
      },
      "execution_count": null,
      "outputs": [
        {
          "output_type": "execute_result",
          "data": {
            "text/plain": [
              "['item 0', 'item 1', 'item 2']"
            ]
          },
          "metadata": {},
          "execution_count": 23
        }
      ]
    },
    {
      "cell_type": "code",
      "source": [
        "my_dict['key3'][0]"
      ],
      "metadata": {
        "colab": {
          "base_uri": "https://localhost:8080/",
          "height": 35
        },
        "id": "nI_Vxs1RE92d",
        "outputId": "001b8d0a-ca51-45f2-de21-f59410f0056a"
      },
      "execution_count": null,
      "outputs": [
        {
          "output_type": "execute_result",
          "data": {
            "text/plain": [
              "'item 0'"
            ],
            "application/vnd.google.colaboratory.intrinsic+json": {
              "type": "string"
            }
          },
          "metadata": {},
          "execution_count": 24
        }
      ]
    },
    {
      "cell_type": "code",
      "source": [
        "my_dict['key3'][0].upper()"
      ],
      "metadata": {
        "colab": {
          "base_uri": "https://localhost:8080/",
          "height": 35
        },
        "id": "sYjqKOCnFK8-",
        "outputId": "f3408b20-ebe0-4ccf-cf68-96fe156ba04b"
      },
      "execution_count": null,
      "outputs": [
        {
          "output_type": "execute_result",
          "data": {
            "text/plain": [
              "'ITEM 0'"
            ],
            "application/vnd.google.colaboratory.intrinsic+json": {
              "type": "string"
            }
          },
          "metadata": {},
          "execution_count": 25
        }
      ]
    },
    {
      "cell_type": "code",
      "source": [
        "my_dict['key1']\n",
        "my_dict['key1']=my_dict['key1']-123\n",
        "my_dict['key1']"
      ],
      "metadata": {
        "colab": {
          "base_uri": "https://localhost:8080/"
        },
        "id": "HuwafFPnFWq4",
        "outputId": "8f1fab64-b8e2-4496-8c2b-7f4c481300c0"
      },
      "execution_count": null,
      "outputs": [
        {
          "output_type": "execute_result",
          "data": {
            "text/plain": [
              "0"
            ]
          },
          "metadata": {},
          "execution_count": 26
        }
      ]
    },
    {
      "cell_type": "code",
      "source": [
        "#python has built in methods for self subtraction ,addition ,multiplication and division\n",
        "my_dict['key1']-=123\n",
        "my_dict['key1']\n"
      ],
      "metadata": {
        "colab": {
          "base_uri": "https://localhost:8080/"
        },
        "id": "7kMMDsIVGRhI",
        "outputId": "c837a2bf-57ad-484a-96e4-567d947463e5"
      },
      "execution_count": null,
      "outputs": [
        {
          "output_type": "execute_result",
          "data": {
            "text/plain": [
              "-123"
            ]
          },
          "metadata": {},
          "execution_count": 27
        }
      ]
    },
    {
      "cell_type": "code",
      "source": [
        "d={}\n",
        "d['animal']='dog'\n",
        "d['answer']=42\n",
        "d"
      ],
      "metadata": {
        "colab": {
          "base_uri": "https://localhost:8080/"
        },
        "id": "bk5i3vraQvoA",
        "outputId": "24530fc9-c46c-400c-de29-7d9b3fda2808"
      },
      "execution_count": null,
      "outputs": [
        {
          "output_type": "execute_result",
          "data": {
            "text/plain": [
              "{'animal': 'dog', 'answer': 42}"
            ]
          },
          "metadata": {},
          "execution_count": 28
        }
      ]
    },
    {
      "cell_type": "markdown",
      "source": [
        "**Nesting with dictionaries**"
      ],
      "metadata": {
        "id": "Rd6D9BVeRsfm"
      }
    },
    {
      "cell_type": "code",
      "source": [
        "d={'key1':{'nestkey':{'subnestkey':'value'}}}\n",
        "d['key1']['nestkey']['subnestkey']"
      ],
      "metadata": {
        "colab": {
          "base_uri": "https://localhost:8080/",
          "height": 35
        },
        "id": "81DxiWJPR1H1",
        "outputId": "1c2e2111-3d0a-4e7d-b0fa-476207ec6fc6"
      },
      "execution_count": null,
      "outputs": [
        {
          "output_type": "execute_result",
          "data": {
            "text/plain": [
              "'value'"
            ],
            "application/vnd.google.colaboratory.intrinsic+json": {
              "type": "string"
            }
          },
          "metadata": {},
          "execution_count": 33
        }
      ]
    },
    {
      "cell_type": "markdown",
      "source": [
        "**Few Dictionary Methods**"
      ],
      "metadata": {
        "id": "iOCEeVRyn0MM"
      }
    },
    {
      "cell_type": "code",
      "source": [
        "d={'key 1':1,'key 2':2,'key 3':3}\n",
        "d.keys()\n",
        "\n"
      ],
      "metadata": {
        "colab": {
          "base_uri": "https://localhost:8080/"
        },
        "id": "EGDn5K50n6kO",
        "outputId": "e70be997-b16e-4f68-d60e-83c73ae15e44"
      },
      "execution_count": null,
      "outputs": [
        {
          "output_type": "execute_result",
          "data": {
            "text/plain": [
              "dict_keys(['key 1', 'key 2', 'key 3'])"
            ]
          },
          "metadata": {},
          "execution_count": 3
        }
      ]
    },
    {
      "cell_type": "code",
      "source": [
        "d.values()"
      ],
      "metadata": {
        "colab": {
          "base_uri": "https://localhost:8080/"
        },
        "id": "5wcE_B_0qj_x",
        "outputId": "dbb2daf2-b1fa-4770-8234-53b283aa055f"
      },
      "execution_count": null,
      "outputs": [
        {
          "output_type": "execute_result",
          "data": {
            "text/plain": [
              "dict_values([1, 2, 3])"
            ]
          },
          "metadata": {},
          "execution_count": 5
        }
      ]
    },
    {
      "cell_type": "code",
      "source": [
        "d.items()"
      ],
      "metadata": {
        "colab": {
          "base_uri": "https://localhost:8080/"
        },
        "id": "VU5RMkCRqtjT",
        "outputId": "e6d8fee6-360c-4f14-992c-9a8ff16d0d71"
      },
      "execution_count": null,
      "outputs": [
        {
          "output_type": "execute_result",
          "data": {
            "text/plain": [
              "dict_items([('key 1', 1), ('key 2', 2), ('key 3', 3)])"
            ]
          },
          "metadata": {},
          "execution_count": 6
        }
      ]
    },
    {
      "cell_type": "markdown",
      "source": [
        "**Dictionary Comprehensions**"
      ],
      "metadata": {
        "id": "ehVN6-P8tWx2"
      }
    },
    {
      "cell_type": "code",
      "source": [
        "#it reduces no of lines in the code\n",
        "print(list(range(10)))"
      ],
      "metadata": {
        "colab": {
          "base_uri": "https://localhost:8080/"
        },
        "id": "r3b2BhB-timO",
        "outputId": "4804c7f6-eae5-439c-fde1-9a91252ab33d"
      },
      "execution_count": null,
      "outputs": [
        {
          "output_type": "stream",
          "name": "stdout",
          "text": [
            "[0, 1, 2, 3, 4, 5, 6, 7, 8, 9]\n"
          ]
        }
      ]
    },
    {
      "cell_type": "code",
      "source": [
        "#single* is multiplication and double** is power\n",
        "{x:x**2 for x in range (10)}"
      ],
      "metadata": {
        "colab": {
          "base_uri": "https://localhost:8080/"
        },
        "id": "xAOkj5dWt13H",
        "outputId": "233e32c8-c65d-4a69-8143-ab05f3a30a15"
      },
      "execution_count": null,
      "outputs": [
        {
          "output_type": "execute_result",
          "data": {
            "text/plain": [
              "{0: 0, 1: 1, 2: 4, 3: 9, 4: 16, 5: 25, 6: 36, 7: 49, 8: 64, 9: 81}"
            ]
          },
          "metadata": {},
          "execution_count": 8
        }
      ]
    },
    {
      "cell_type": "markdown",
      "source": [
        "**Functions**:code reusability"
      ],
      "metadata": {
        "id": "zWXl6GLPubcU"
      }
    },
    {
      "cell_type": "code",
      "source": [
        "#syntax-def name_of_the_function(arg1,arg2):\n",
        "def Say_Hola():\n",
        "    print('Hola')\n",
        "Say_Hola()"
      ],
      "metadata": {
        "colab": {
          "base_uri": "https://localhost:8080/"
        },
        "id": "uQBM08GIbd8y",
        "outputId": "f07817b0-973a-4884-ed56-f6ef33d2fd0b"
      },
      "execution_count": null,
      "outputs": [
        {
          "output_type": "stream",
          "name": "stdout",
          "text": [
            "Hola\n"
          ]
        }
      ]
    },
    {
      "cell_type": "code",
      "source": [
        "def Greeting(name):\n",
        "    print('Heyyy %s'%name)\n",
        "    print('How are you doing %s' %name)\n",
        "Greeting('Sara!')"
      ],
      "metadata": {
        "colab": {
          "base_uri": "https://localhost:8080/"
        },
        "id": "jFoF9WQOeBJt",
        "outputId": "fa52a433-ca0a-47c3-96ac-864f876cc3cf"
      },
      "execution_count": null,
      "outputs": [
        {
          "output_type": "stream",
          "name": "stdout",
          "text": [
            "Heyyy Sara!\n",
            "How are you doing Sara!\n"
          ]
        }
      ]
    },
    {
      "cell_type": "markdown",
      "source": [
        "**Using Return**\n",
        "Allows a func to return the result that can then be stored as a variable or it can be used according to the user's needs"
      ],
      "metadata": {
        "id": "lqr04UxkfD6J"
      }
    },
    {
      "cell_type": "code",
      "source": [
        "#Addition function\n",
        "def add_num(num1,num2):\n",
        "    return num1+num2"
      ],
      "metadata": {
        "id": "o2iEFDQ7fLWU"
      },
      "execution_count": null,
      "outputs": []
    },
    {
      "cell_type": "code",
      "source": [
        "add_num(4,5)"
      ],
      "metadata": {
        "colab": {
          "base_uri": "https://localhost:8080/"
        },
        "id": "IesYKjRbiZc9",
        "outputId": "f9de7203-d423-4f8c-ab87-85ce9e07e735"
      },
      "execution_count": null,
      "outputs": [
        {
          "output_type": "execute_result",
          "data": {
            "text/plain": [
              "9"
            ]
          },
          "metadata": {},
          "execution_count": 11
        }
      ]
    },
    {
      "cell_type": "code",
      "source": [
        "result=add_num(4,5)"
      ],
      "metadata": {
        "id": "5oRskR3iii8b"
      },
      "execution_count": null,
      "outputs": []
    },
    {
      "cell_type": "code",
      "source": [
        "print(result)"
      ],
      "metadata": {
        "colab": {
          "base_uri": "https://localhost:8080/"
        },
        "id": "2XLNtnTAiphL",
        "outputId": "40bc3aad-6544-476d-93d9-9e38622e34c8"
      },
      "execution_count": null,
      "outputs": [
        {
          "output_type": "stream",
          "name": "stdout",
          "text": [
            "9\n"
          ]
        }
      ]
    },
    {
      "cell_type": "code",
      "source": [
        "#num1+num2 '+' symbol indicates addition btwn 2 no's /if '+' symbol is btwn two strings then it concatenates two strings\n",
        "print(add_num ('one\\t','two'))"
      ],
      "metadata": {
        "colab": {
          "base_uri": "https://localhost:8080/"
        },
        "id": "w6Gytur5i1gg",
        "outputId": "c9641e4d-0e6a-451c-9c35-43af30c9f806"
      },
      "execution_count": null,
      "outputs": [
        {
          "output_type": "stream",
          "name": "stdout",
          "text": [
            "one\ttwo\n"
          ]
        }
      ]
    },
    {
      "cell_type": "code",
      "source": [
        "#Naive method of checking for primes\n",
        "def is_prime(num):\n",
        "    for n in range(2,num):# arguments indicates the start(2) and stop(num)\n",
        "        if num%n==0:\n",
        "            print('Not Prime')\n",
        "            break\n",
        "    else:\n",
        "          print('Prime')"
      ],
      "metadata": {
        "id": "7SBWry__232g"
      },
      "execution_count": 11,
      "outputs": []
    },
    {
      "cell_type": "code",
      "source": [
        "is_prime(6)"
      ],
      "metadata": {
        "colab": {
          "base_uri": "https://localhost:8080/"
        },
        "id": "_oez3kdd4PfH",
        "outputId": "45cddf55-9f01-4c64-f7cb-95f1bdd3a886"
      },
      "execution_count": 4,
      "outputs": [
        {
          "output_type": "stream",
          "name": "stdout",
          "text": [
            "Not Prime\n"
          ]
        }
      ]
    },
    {
      "cell_type": "code",
      "source": [
        "is_prime(11)"
      ],
      "metadata": {
        "colab": {
          "base_uri": "https://localhost:8080/"
        },
        "id": "QZjpxsqV4ay9",
        "outputId": "eed70da8-9c72-42e3-91cb-e1941d71a8f6"
      },
      "execution_count": 9,
      "outputs": [
        {
          "output_type": "stream",
          "name": "stdout",
          "text": [
            "Prime\n"
          ]
        }
      ]
    },
    {
      "cell_type": "code",
      "source": [
        "import math\n",
        "def is_prime(num):\n",
        "    if num%2==0 and num>2:#Eg:25%2 rem=1,Quo=12, False/25>2 ,True Logical AND operator returns False\n",
        "        return False\n",
        "    for i in range(3,int(math.sqrt(num))+1,2):#3(start),6(stop),2(step size)\n",
        "        if num%i==0: # 25%3 rem=1,quo=8/ 5%25 rem=0 satisfies the condition & returns False\n",
        "            return False\n",
        "    return True"
      ],
      "metadata": {
        "id": "X6XV9qPs-zMS"
      },
      "execution_count": 17,
      "outputs": []
    },
    {
      "cell_type": "code",
      "source": [
        "x=math.sqrt(25)\n",
        "print(list(range(3,6,2)))"
      ],
      "metadata": {
        "colab": {
          "base_uri": "https://localhost:8080/"
        },
        "id": "bPGfXNjVBLDo",
        "outputId": "39b1ee0b-4f2f-472f-ab76-037dc32043c2"
      },
      "execution_count": 19,
      "outputs": [
        {
          "output_type": "stream",
          "name": "stdout",
          "text": [
            "[3, 5]\n"
          ]
        }
      ]
    },
    {
      "cell_type": "code",
      "source": [
        "x=int(math.sqrt(11)+1) #sqrt of 11 is 3.1666 ,int will round it off to 3\n",
        "print(list(range(3,4,2)))"
      ],
      "metadata": {
        "colab": {
          "base_uri": "https://localhost:8080/"
        },
        "id": "_YGMUs7UGlpP",
        "outputId": "f9a6170b-07b4-4712-9783-e9b36143348a"
      },
      "execution_count": 23,
      "outputs": [
        {
          "output_type": "stream",
          "name": "stdout",
          "text": [
            "[3]\n"
          ]
        }
      ]
    },
    {
      "cell_type": "code",
      "source": [
        "is_prime(25)"
      ],
      "metadata": {
        "colab": {
          "base_uri": "https://localhost:8080/"
        },
        "id": "Y36Bw_HyBCfy",
        "outputId": "b09e475a-78b3-4d8f-c0f5-22046f6054f8"
      },
      "execution_count": 18,
      "outputs": [
        {
          "output_type": "execute_result",
          "data": {
            "text/plain": [
              "False"
            ]
          },
          "metadata": {},
          "execution_count": 18
        }
      ]
    },
    {
      "cell_type": "code",
      "source": [
        "is_prime(11)"
      ],
      "metadata": {
        "colab": {
          "base_uri": "https://localhost:8080/"
        },
        "id": "fHv6b2xgG00v",
        "outputId": "86a8668f-2c3c-45fb-d598-d7643b83aed3"
      },
      "execution_count": 21,
      "outputs": [
        {
          "output_type": "execute_result",
          "data": {
            "text/plain": [
              "True"
            ]
          },
          "metadata": {},
          "execution_count": 21
        }
      ]
    },
    {
      "cell_type": "markdown",
      "source": [
        "**Iterators and Generators**"
      ],
      "metadata": {
        "id": "u-iQSd_7PBwz"
      }
    },
    {
      "cell_type": "code",
      "source": [
        "#Generator func for the cube of numbers\n",
        "def gencubes(n):\n",
        "    for num in range(n):\n",
        "        yield num**3"
      ],
      "metadata": {
        "id": "FmZwkaSiPKeX"
      },
      "execution_count": 49,
      "outputs": []
    },
    {
      "cell_type": "code",
      "source": [
        "for x in gencubes(10): #here x is an iterator\n",
        "    print(x)"
      ],
      "metadata": {
        "colab": {
          "base_uri": "https://localhost:8080/"
        },
        "id": "la8KGPNiRr06",
        "outputId": "880ec25a-f887-4fc5-b4c6-a957f75394b8"
      },
      "execution_count": 51,
      "outputs": [
        {
          "output_type": "stream",
          "name": "stdout",
          "text": [
            "0\n",
            "1\n",
            "8\n",
            "27\n",
            "64\n",
            "125\n",
            "216\n",
            "343\n",
            "512\n",
            "729\n"
          ]
        }
      ]
    },
    {
      "cell_type": "code",
      "source": [
        "#generate fibonacci series upto n\n",
        "def genfibon(n):\n",
        "    a=1\n",
        "    b=1\n",
        "    for i in range(n):\n",
        "        yield a\n",
        "        a,b=b,a+b  #b value will be given to a and a+b value will be given to b"
      ],
      "metadata": {
        "id": "cLEtJkX4UKmE"
      },
      "execution_count": 52,
      "outputs": []
    },
    {
      "cell_type": "code",
      "source": [
        "for num in genfibon(10):\n",
        "    print(num)"
      ],
      "metadata": {
        "colab": {
          "base_uri": "https://localhost:8080/"
        },
        "id": "FT5_JJ7gW09C",
        "outputId": "f0b7911f-0c2b-4274-9e4a-b15b81b39105"
      },
      "execution_count": 53,
      "outputs": [
        {
          "output_type": "stream",
          "name": "stdout",
          "text": [
            "1\n",
            "1\n",
            "2\n",
            "3\n",
            "5\n",
            "8\n",
            "13\n",
            "21\n",
            "34\n",
            "55\n"
          ]
        }
      ]
    },
    {
      "cell_type": "code",
      "source": [
        "def fibon(n):\n",
        "    a=1\n",
        "    b=1\n",
        "    output=[]\n",
        "    for i in range(n):\n",
        "        output.append(a)\n",
        "        a,b=b,a+b #b value is given to a and in the next loop it will append a to the o/p list\n",
        "    return output"
      ],
      "metadata": {
        "id": "4b2uvN0TY8k2"
      },
      "execution_count": 56,
      "outputs": []
    },
    {
      "cell_type": "code",
      "source": [
        "fibon(10)"
      ],
      "metadata": {
        "colab": {
          "base_uri": "https://localhost:8080/"
        },
        "id": "WVZeEZEJdLTv",
        "outputId": "ccc127e8-c5c9-438f-f9d1-b21ccbc601ef"
      },
      "execution_count": 57,
      "outputs": [
        {
          "output_type": "execute_result",
          "data": {
            "text/plain": [
              "[1, 1, 2, 3, 5, 8, 13, 21, 34, 55]"
            ]
          },
          "metadata": {},
          "execution_count": 57
        }
      ]
    },
    {
      "cell_type": "markdown",
      "source": [
        "**next() and iter() Built-In Functions**"
      ],
      "metadata": {
        "id": "N7-iCazWgcS6"
      }
    },
    {
      "cell_type": "code",
      "source": [
        "#Allows us to access next element in a sequence\n",
        "print(list(range(3)))"
      ],
      "metadata": {
        "colab": {
          "base_uri": "https://localhost:8080/"
        },
        "id": "gh8-rHTKh7oI",
        "outputId": "93a441fd-bca6-4aa7-92e9-25e9d6abf035"
      },
      "execution_count": 61,
      "outputs": [
        {
          "output_type": "stream",
          "name": "stdout",
          "text": [
            "[0, 1, 2]\n"
          ]
        }
      ]
    },
    {
      "cell_type": "code",
      "source": [
        "def simple_gen():\n",
        "    for x in range(3):\n",
        "        yield x"
      ],
      "metadata": {
        "id": "ye73Ko9CgryI"
      },
      "execution_count": 58,
      "outputs": []
    },
    {
      "cell_type": "code",
      "source": [
        "g=simple_gen()"
      ],
      "metadata": {
        "id": "ba-6MqQZhrgP"
      },
      "execution_count": 62,
      "outputs": []
    },
    {
      "cell_type": "code",
      "source": [
        "print(next(g))"
      ],
      "metadata": {
        "colab": {
          "base_uri": "https://localhost:8080/"
        },
        "id": "1LpqPgyQiSzP",
        "outputId": "327d32d0-0191-4216-a1a1-de079af167ae"
      },
      "execution_count": 63,
      "outputs": [
        {
          "output_type": "stream",
          "name": "stdout",
          "text": [
            "0\n"
          ]
        }
      ]
    },
    {
      "cell_type": "code",
      "source": [
        "print(next(g))"
      ],
      "metadata": {
        "colab": {
          "base_uri": "https://localhost:8080/"
        },
        "id": "NTvkq3J0iYmo",
        "outputId": "fe157b8f-757f-4dcb-8f17-99b07e4f890a"
      },
      "execution_count": 64,
      "outputs": [
        {
          "output_type": "stream",
          "name": "stdout",
          "text": [
            "1\n"
          ]
        }
      ]
    },
    {
      "cell_type": "code",
      "source": [
        "print(next(g))"
      ],
      "metadata": {
        "colab": {
          "base_uri": "https://localhost:8080/"
        },
        "id": "NfvWKH1via0b",
        "outputId": "662bc5d9-5bcd-4437-e2db-31b8182e386a"
      },
      "execution_count": 65,
      "outputs": [
        {
          "output_type": "stream",
          "name": "stdout",
          "text": [
            "2\n"
          ]
        }
      ]
    },
    {
      "cell_type": "code",
      "source": [
        "print(next(g))"
      ],
      "metadata": {
        "colab": {
          "base_uri": "https://localhost:8080/",
          "height": 141
        },
        "id": "BpXgxRPhidkK",
        "outputId": "81bf4bbf-e8b3-42c2-bc20-c9331bdc4f5f"
      },
      "execution_count": 10,
      "outputs": [
        {
          "output_type": "error",
          "ename": "NameError",
          "evalue": "name 'g' is not defined",
          "traceback": [
            "\u001b[0;31m---------------------------------------------------------------------------\u001b[0m",
            "\u001b[0;31mNameError\u001b[0m                                 Traceback (most recent call last)",
            "\u001b[0;32m<ipython-input-10-1dfb29d6357e>\u001b[0m in \u001b[0;36m<cell line: 1>\u001b[0;34m()\u001b[0m\n\u001b[0;32m----> 1\u001b[0;31m \u001b[0mprint\u001b[0m\u001b[0;34m(\u001b[0m\u001b[0mnext\u001b[0m\u001b[0;34m(\u001b[0m\u001b[0mg\u001b[0m\u001b[0;34m)\u001b[0m\u001b[0;34m)\u001b[0m\u001b[0;34m\u001b[0m\u001b[0;34m\u001b[0m\u001b[0m\n\u001b[0m",
            "\u001b[0;31mNameError\u001b[0m: name 'g' is not defined"
          ]
        }
      ]
    },
    {
      "cell_type": "code",
      "source": [
        "s='Heyyyyy'\n",
        "for i in s:\n",
        "    print(i)"
      ],
      "metadata": {
        "colab": {
          "base_uri": "https://localhost:8080/"
        },
        "id": "HxPNaOzJjiN8",
        "outputId": "df05a6ce-2f3e-41a3-acfd-3019c4573aef"
      },
      "execution_count": 68,
      "outputs": [
        {
          "output_type": "stream",
          "name": "stdout",
          "text": [
            "H\n",
            "e\n",
            "y\n",
            "y\n",
            "y\n",
            "y\n",
            "y\n"
          ]
        }
      ]
    },
    {
      "cell_type": "code",
      "source": [
        "next(s)"
      ],
      "metadata": {
        "colab": {
          "base_uri": "https://localhost:8080/",
          "height": 141
        },
        "id": "SKodOgLpj5Cr",
        "outputId": "a28fbd6b-5555-43ff-c57d-0793c05dfab1"
      },
      "execution_count": 69,
      "outputs": [
        {
          "output_type": "error",
          "ename": "TypeError",
          "evalue": "'str' object is not an iterator",
          "traceback": [
            "\u001b[0;31m---------------------------------------------------------------------------\u001b[0m",
            "\u001b[0;31mTypeError\u001b[0m                                 Traceback (most recent call last)",
            "\u001b[0;32m<ipython-input-69-61c30b5fe1d5>\u001b[0m in \u001b[0;36m<cell line: 1>\u001b[0;34m()\u001b[0m\n\u001b[0;32m----> 1\u001b[0;31m \u001b[0mnext\u001b[0m\u001b[0;34m(\u001b[0m\u001b[0ms\u001b[0m\u001b[0;34m)\u001b[0m\u001b[0;34m\u001b[0m\u001b[0;34m\u001b[0m\u001b[0m\n\u001b[0m",
            "\u001b[0;31mTypeError\u001b[0m: 'str' object is not an iterator"
          ]
        }
      ]
    },
    {
      "cell_type": "code",
      "source": [
        "s_iter=iter(s)\n",
        "next(s_iter)"
      ],
      "metadata": {
        "colab": {
          "base_uri": "https://localhost:8080/",
          "height": 35
        },
        "id": "24qsqYVakSso",
        "outputId": "aa5fbc7e-b851-4583-a86a-ea406afd0d6c"
      },
      "execution_count": 70,
      "outputs": [
        {
          "output_type": "execute_result",
          "data": {
            "text/plain": [
              "'H'"
            ],
            "application/vnd.google.colaboratory.intrinsic+json": {
              "type": "string"
            }
          },
          "metadata": {},
          "execution_count": 70
        }
      ]
    },
    {
      "cell_type": "code",
      "source": [
        "next(s_iter)"
      ],
      "metadata": {
        "colab": {
          "base_uri": "https://localhost:8080/",
          "height": 35
        },
        "id": "30s7mjaakflS",
        "outputId": "ddfa9287-a20f-4a6a-eca0-f75a20469ce8"
      },
      "execution_count": 71,
      "outputs": [
        {
          "output_type": "execute_result",
          "data": {
            "text/plain": [
              "'e'"
            ],
            "application/vnd.google.colaboratory.intrinsic+json": {
              "type": "string"
            }
          },
          "metadata": {},
          "execution_count": 71
        }
      ]
    },
    {
      "cell_type": "markdown",
      "source": [
        "**map() Function**\n",
        "Syntax:map(function,sequence) map:keyword,function:function name,seq:Collecttion of strings, eg:list"
      ],
      "metadata": {
        "id": "6XtsvqG3oBzh"
      }
    },
    {
      "cell_type": "code",
      "source": [
        "def Fahrenheit(T):\n",
        "    return((float(9)/5)*T+32)\n",
        "def celsius(T):\n",
        "    return(float(5)/9)*(T-32)\n",
        "Temp=[0,22.5,40,100]"
      ],
      "metadata": {
        "id": "eRd2jycUoAPT"
      },
      "execution_count": 8,
      "outputs": []
    },
    {
      "cell_type": "code",
      "source": [
        "F_Temp=list(map(Fahrenheit,Temp))\n",
        "F_Temp"
      ],
      "metadata": {
        "colab": {
          "base_uri": "https://localhost:8080/"
        },
        "id": "zwHycTLcp1mK",
        "outputId": "5e46b6e7-1e12-4740-efbf-a7bcc05a634f"
      },
      "execution_count": 9,
      "outputs": [
        {
          "output_type": "execute_result",
          "data": {
            "text/plain": [
              "[32.0, 72.5, 104.0, 212.0]"
            ]
          },
          "metadata": {},
          "execution_count": 9
        }
      ]
    },
    {
      "cell_type": "code",
      "source": [
        "#converting it back\n",
        "list(map(celsius,F_Temp))"
      ],
      "metadata": {
        "colab": {
          "base_uri": "https://localhost:8080/"
        },
        "id": "DxSlRvhnsWoZ",
        "outputId": "6809f224-e67b-4915-cb1b-08c6533ba61c"
      },
      "execution_count": 12,
      "outputs": [
        {
          "output_type": "execute_result",
          "data": {
            "text/plain": [
              "[0.0, 22.5, 40.0, 100.0]"
            ]
          },
          "metadata": {},
          "execution_count": 12
        }
      ]
    },
    {
      "cell_type": "markdown",
      "source": [
        "**lambda() Function**\n",
        "  Map is used with lambda() to reduce the lines of code(Instead of using for loops)"
      ],
      "metadata": {
        "id": "cdxqj3CEtzGn"
      }
    },
    {
      "cell_type": "code",
      "source": [
        "list(map(lambda x:(5/9)*(x-32),F_Temp))"
      ],
      "metadata": {
        "colab": {
          "base_uri": "https://localhost:8080/"
        },
        "id": "sCukXjhftyET",
        "outputId": "e26ae784-6f09-465e-db16-9fdea73e4f89"
      },
      "execution_count": 24,
      "outputs": [
        {
          "output_type": "execute_result",
          "data": {
            "text/plain": [
              "[0.0, 22.5, 40.0, 100.0]"
            ]
          },
          "metadata": {},
          "execution_count": 24
        }
      ]
    },
    {
      "cell_type": "code",
      "source": [
        "#for 2 lists\n",
        "a=[1,2,3,4]\n",
        "b=[5,6,7,8]\n",
        "c=[9,10,11,12]\n",
        "list(map(lambda x,y:x+y,a,b))"
      ],
      "metadata": {
        "colab": {
          "base_uri": "https://localhost:8080/"
        },
        "id": "O1VJso121f-q",
        "outputId": "d3f0821a-2348-40c4-c746-aa4ac30171cf"
      },
      "execution_count": 25,
      "outputs": [
        {
          "output_type": "execute_result",
          "data": {
            "text/plain": [
              "[6, 8, 10, 12]"
            ]
          },
          "metadata": {},
          "execution_count": 25
        }
      ]
    },
    {
      "cell_type": "code",
      "source": [
        "#for all 3 lists\n",
        "list(map(lambda x,y,z:x+y+z,a,b,c))"
      ],
      "metadata": {
        "colab": {
          "base_uri": "https://localhost:8080/"
        },
        "id": "48IYjUfS1_yS",
        "outputId": "d9c3cf49-137f-4ef9-eb28-39915ea2cc0e"
      },
      "execution_count": 26,
      "outputs": [
        {
          "output_type": "execute_result",
          "data": {
            "text/plain": [
              "[15, 18, 21, 24]"
            ]
          },
          "metadata": {},
          "execution_count": 26
        }
      ]
    },
    {
      "cell_type": "markdown",
      "source": [
        "**reduce()**\n",
        "It continues adding in a sequence and gives a single element as the result of reduce"
      ],
      "metadata": {
        "id": "ueC4AAte2VSf"
      }
    },
    {
      "cell_type": "code",
      "source": [
        "from functools import reduce\n",
        "list=[47,11,42,13]\n",
        "reduce(lambda x,y:x+y,list)"
      ],
      "metadata": {
        "colab": {
          "base_uri": "https://localhost:8080/"
        },
        "id": "pei9_Ly743Ba",
        "outputId": "b68d3efb-7920-4eb8-a4f2-2d4f0b25154b"
      },
      "execution_count": 27,
      "outputs": [
        {
          "output_type": "execute_result",
          "data": {
            "text/plain": [
              "113"
            ]
          },
          "metadata": {},
          "execution_count": 27
        }
      ]
    },
    {
      "cell_type": "code",
      "source": [
        "from Ipython.display import Image\n",
        "Image('http://www.python course.eu/images/reduce_diagram.png')"
      ],
      "metadata": {
        "id": "QjyY9w8yPDeN"
      },
      "execution_count": null,
      "outputs": []
    },
    {
      "cell_type": "code",
      "source": [
        "max_find=lambda a,b: a if (a>b) else b"
      ],
      "metadata": {
        "id": "GZ4j0GwZ79r4"
      },
      "execution_count": 31,
      "outputs": []
    },
    {
      "cell_type": "code",
      "source": [
        "reduce(max_find,list)"
      ],
      "metadata": {
        "colab": {
          "base_uri": "https://localhost:8080/"
        },
        "id": "36YE6jg08fA5",
        "outputId": "ae2d05b4-813e-419d-98ee-908b65abf1c9"
      },
      "execution_count": 32,
      "outputs": [
        {
          "output_type": "execute_result",
          "data": {
            "text/plain": [
              "47"
            ]
          },
          "metadata": {},
          "execution_count": 32
        }
      ]
    },
    {
      "cell_type": "markdown",
      "source": [
        "**filter**"
      ],
      "metadata": {
        "id": "y9Yep5gt-M-h"
      }
    },
    {
      "cell_type": "code",
      "source": [
        "def even_check(num):\n",
        "    if(num%2==0):\n",
        "        return True"
      ],
      "metadata": {
        "id": "L1Rz_6mt-Tna"
      },
      "execution_count": 4,
      "outputs": []
    },
    {
      "cell_type": "code",
      "source": [
        "lst = range(20)\n",
        "print(list(lst))\n",
        "list(filter(even_check, lst))  # Renaming the variable"
      ],
      "metadata": {
        "colab": {
          "base_uri": "https://localhost:8080/"
        },
        "id": "UwX1CQjgBjqU",
        "outputId": "91d730d3-3b5b-4b19-b28c-938963996dc6"
      },
      "execution_count": 6,
      "outputs": [
        {
          "output_type": "stream",
          "name": "stdout",
          "text": [
            "[0, 1, 2, 3, 4, 5, 6, 7, 8, 9, 10, 11, 12, 13, 14, 15, 16, 17, 18, 19]\n"
          ]
        },
        {
          "output_type": "execute_result",
          "data": {
            "text/plain": [
              "[0, 2, 4, 6, 8, 10, 12, 14, 16, 18]"
            ]
          },
          "metadata": {},
          "execution_count": 6
        }
      ]
    },
    {
      "cell_type": "code",
      "source": [
        "list(filter(lambda x:x%2==0,lst))"
      ],
      "metadata": {
        "colab": {
          "base_uri": "https://localhost:8080/"
        },
        "id": "WHlo57wTGoVJ",
        "outputId": "b8a0fa59-fef4-4557-e2d1-98b9e86421f6"
      },
      "execution_count": 7,
      "outputs": [
        {
          "output_type": "execute_result",
          "data": {
            "text/plain": [
              "[0, 2, 4, 6, 8, 10, 12, 14, 16, 18]"
            ]
          },
          "metadata": {},
          "execution_count": 7
        }
      ]
    }
  ]
}